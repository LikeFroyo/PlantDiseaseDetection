{
  "nbformat": 4,
  "nbformat_minor": 0,
  "metadata": {
    "colab": {
      "name": "Rollno1and3PlantDiseaseDetection.ipynb",
      "provenance": [],
      "collapsed_sections": []
    },
    "kernelspec": {
      "name": "python3",
      "display_name": "Python 3"
    }
  },
  "cells": [
    {
      "cell_type": "markdown",
      "metadata": {
        "id": "1xheClOj5_7o",
        "colab_type": "text"
      },
      "source": [
        "**GETTING THE DATASET**"
      ]
    },
    {
      "cell_type": "code",
      "metadata": {
        "id": "pJIGk14vIQwy",
        "colab_type": "code",
        "outputId": "33403856-4a27-4333-9739-f25c0817ad32",
        "colab": {
          "base_uri": "https://localhost:8080/",
          "height": 34
        }
      },
      "source": [
        "!git clone https://github.com/spMohanty/PlantVillage-Dataset"
      ],
      "execution_count": 0,
      "outputs": [
        {
          "output_type": "stream",
          "text": [
            "fatal: destination path 'PlantVillage-Dataset' already exists and is not an empty directory.\n"
          ],
          "name": "stdout"
        }
      ]
    },
    {
      "cell_type": "markdown",
      "metadata": {
        "id": "49WPvkK66tyq",
        "colab_type": "text"
      },
      "source": [
        "**IMPORTING OS, NUMPY AND CV2 PACKAGES**"
      ]
    },
    {
      "cell_type": "code",
      "metadata": {
        "id": "CVBf9mOASGF5",
        "colab_type": "code",
        "outputId": "3d657f24-5bde-45a4-c578-9e2794997af9",
        "colab": {
          "base_uri": "https://localhost:8080/",
          "height": 50
        }
      },
      "source": [
        "%tensorflow_version 1.x\n",
        "\n",
        "import numpy as np\n",
        "import cv2\n",
        "from os import listdir\n",
        "from keras.preprocessing.image import img_to_array"
      ],
      "execution_count": 0,
      "outputs": [
        {
          "output_type": "stream",
          "text": [
            "TensorFlow 1.x selected.\n"
          ],
          "name": "stdout"
        },
        {
          "output_type": "stream",
          "text": [
            "Using TensorFlow backend.\n"
          ],
          "name": "stderr"
        }
      ]
    },
    {
      "cell_type": "markdown",
      "metadata": {
        "id": "MTZQ7r2E83gR",
        "colab_type": "text"
      },
      "source": [
        "**RESIZING AND CONVERTING IMAGES TO ARRAY**"
      ]
    },
    {
      "cell_type": "code",
      "metadata": {
        "id": "miYmOix_qbf9",
        "colab_type": "code",
        "colab": {}
      },
      "source": [
        "default_image_size = tuple((256, 256))\n",
        "\n",
        "def convert_image_to_array(image_dir):\n",
        "  image = cv2.imread(image_dir)\n",
        "  image = cv2.resize(image, default_image_size)   \n",
        "  return img_to_array(image)"
      ],
      "execution_count": 0,
      "outputs": []
    },
    {
      "cell_type": "markdown",
      "metadata": {
        "id": "21gm06d--Bff",
        "colab_type": "text"
      },
      "source": [
        "**GETTING THE ROOT DIRECTORY OF DATASET**"
      ]
    },
    {
      "cell_type": "code",
      "metadata": {
        "id": "D7yblcRG9_ta",
        "colab_type": "code",
        "colab": {}
      },
      "source": [
        "directory_root = 'PlantVillage-Dataset/raw/color' \n",
        "root_dir = listdir(directory_root)"
      ],
      "execution_count": 0,
      "outputs": []
    },
    {
      "cell_type": "code",
      "metadata": {
        "id": "A0QMQqZ5t6x2",
        "colab_type": "code",
        "colab": {}
      },
      "source": [
        ""
      ],
      "execution_count": 0,
      "outputs": []
    },
    {
      "cell_type": "markdown",
      "metadata": {
        "id": "27ZVLDqO-L6x",
        "colab_type": "text"
      },
      "source": [
        "**LOADING THE IMAGES FROM ROOT / DIFFERENT_DISEASE_PLANT_FOLDER AND CONVERTING IT**"
      ]
    },
    {
      "cell_type": "code",
      "metadata": {
        "id": "G7q7Dxs-WS_K",
        "colab_type": "code",
        "colab": {}
      },
      "source": [
        "image_list = [] \n",
        "label_list = []\n",
        "\n",
        "for plant_disease_folder in root_dir :\n",
        "  #getting the inner-image-from-disease-folders\n",
        "  plant_disease_image_list = listdir(f\"{directory_root}/{plant_disease_folder}\")\n",
        "  \n",
        "  for image in plant_disease_image_list[:5]:\n",
        "    image_list.append(convert_image_to_array(f\"{directory_root}/{plant_disease_folder}/{image}\"))\n",
        "    label_list.append(plant_disease_folder)"
      ],
      "execution_count": 0,
      "outputs": []
    },
    {
      "cell_type": "markdown",
      "metadata": {
        "id": "PQq_x7Fb-9DB",
        "colab_type": "text"
      },
      "source": [
        "**CHECHING THE RESULTS**"
      ]
    },
    {
      "cell_type": "code",
      "metadata": {
        "id": "gukQJsiisqIP",
        "colab_type": "code",
        "outputId": "5f3bff74-a5fd-4d7f-a9fe-367da9434f84",
        "colab": {
          "base_uri": "https://localhost:8080/",
          "height": 857
        }
      },
      "source": [
        "print(image_list[:1])\n",
        "print(label_list[:1])"
      ],
      "execution_count": 0,
      "outputs": [
        {
          "output_type": "stream",
          "text": [
            "[array([[[112., 106., 111.],\n",
            "        [108., 102., 107.],\n",
            "        [106., 100., 105.],\n",
            "        ...,\n",
            "        [127., 151., 157.],\n",
            "        [118., 144., 150.],\n",
            "        [ 97., 123., 129.]],\n",
            "\n",
            "       [[114., 108., 113.],\n",
            "        [113., 107., 112.],\n",
            "        [111., 105., 110.],\n",
            "        ...,\n",
            "        [122., 146., 152.],\n",
            "        [103., 129., 135.],\n",
            "        [ 79., 105., 111.]],\n",
            "\n",
            "       [[113., 107., 112.],\n",
            "        [114., 108., 113.],\n",
            "        [115., 109., 114.],\n",
            "        ...,\n",
            "        [116., 140., 146.],\n",
            "        [ 96., 122., 128.],\n",
            "        [ 69.,  95., 101.]],\n",
            "\n",
            "       ...,\n",
            "\n",
            "       [[138., 130., 131.],\n",
            "        [138., 130., 131.],\n",
            "        [138., 130., 131.],\n",
            "        ...,\n",
            "        [ 96., 126., 101.],\n",
            "        [101., 131., 106.],\n",
            "        [109., 139., 114.]],\n",
            "\n",
            "       [[137., 129., 130.],\n",
            "        [137., 129., 130.],\n",
            "        [137., 129., 130.],\n",
            "        ...,\n",
            "        [110., 141., 114.],\n",
            "        [116., 147., 120.],\n",
            "        [124., 155., 128.]],\n",
            "\n",
            "       [[136., 128., 129.],\n",
            "        [136., 128., 129.],\n",
            "        [136., 128., 129.],\n",
            "        ...,\n",
            "        [107., 138., 111.],\n",
            "        [111., 142., 115.],\n",
            "        [117., 148., 121.]]], dtype=float32)]\n",
            "['Corn_(maize)___Cercospora_leaf_spot Gray_leaf_spot']\n"
          ],
          "name": "stdout"
        }
      ]
    },
    {
      "cell_type": "markdown",
      "metadata": {
        "id": "Gom3RyMyAQ6a",
        "colab_type": "text"
      },
      "source": [
        "**LABEL ENCODING**"
      ]
    },
    {
      "cell_type": "code",
      "metadata": {
        "id": "MdVdrkP4srne",
        "colab_type": "code",
        "colab": {}
      },
      "source": [
        "from sklearn.preprocessing import LabelBinarizer\n",
        "from sklearn.preprocessing import MultiLabelBinarizer\n",
        "\n",
        "label_binarizer = LabelBinarizer()\n",
        "image_labels = label_binarizer.fit_transform(label_list)\n",
        "n_classes = len(label_binarizer.classes_)"
      ],
      "execution_count": 0,
      "outputs": []
    },
    {
      "cell_type": "markdown",
      "metadata": {
        "id": "k7zTZuSTCDIv",
        "colab_type": "text"
      },
      "source": [
        "**REGULARIZATION**"
      ]
    },
    {
      "cell_type": "code",
      "metadata": {
        "id": "w2OhdLTAwDJO",
        "colab_type": "code",
        "colab": {}
      },
      "source": [
        "np_image_list = np.array(image_list, dtype=np.float16) / 225.0"
      ],
      "execution_count": 0,
      "outputs": []
    },
    {
      "cell_type": "markdown",
      "metadata": {
        "id": "xmtfOmVPB9Ux",
        "colab_type": "text"
      },
      "source": [
        "**TRAIN AND TEST SPLIT**"
      ]
    },
    {
      "cell_type": "code",
      "metadata": {
        "id": "deYkPQSewbEA",
        "colab_type": "code",
        "colab": {}
      },
      "source": [
        "from sklearn.model_selection import train_test_split\n",
        "x_train, x_test, y_train, y_test = train_test_split(np_image_list, image_labels, test_size=0.2, random_state = 15)"
      ],
      "execution_count": 0,
      "outputs": []
    },
    {
      "cell_type": "markdown",
      "metadata": {
        "id": "TMwjn6ZWEXFK",
        "colab_type": "text"
      },
      "source": [
        "**CHECKING THE RESULTS**"
      ]
    },
    {
      "cell_type": "code",
      "metadata": {
        "id": "I2CajvVTCcBC",
        "colab_type": "code",
        "outputId": "33531093-b2d0-487d-d642-3157d82fa77a",
        "colab": {
          "base_uri": "https://localhost:8080/",
          "height": 874
        }
      },
      "source": [
        "print(x_train[:1])\n",
        "print(y_train[:1])"
      ],
      "execution_count": 0,
      "outputs": [
        {
          "output_type": "stream",
          "text": [
            "[[[[0.751  0.751  0.778 ]\n",
            "   [0.6978 0.6978 0.7246]\n",
            "   [0.8887 0.8887 0.9155]\n",
            "   ...\n",
            "   [0.2089 0.1644 0.1644]\n",
            "   [0.2178 0.1644 0.1644]\n",
            "   [0.2134 0.16   0.1511]]\n",
            "\n",
            "  [[0.7866 0.7866 0.8135]\n",
            "   [0.818  0.818  0.844 ]\n",
            "   [0.782  0.782  0.809 ]\n",
            "   ...\n",
            "   [0.2089 0.1644 0.1644]\n",
            "   [0.2267 0.1733 0.1733]\n",
            "   [0.2267 0.1733 0.1644]]\n",
            "\n",
            "  [[0.6978 0.6978 0.7246]\n",
            "   [0.991  0.991  1.018 ]\n",
            "   [0.8535 0.8535 0.88  ]\n",
            "   ...\n",
            "   [0.1956 0.1511 0.1511]\n",
            "   [0.2178 0.1644 0.1644]\n",
            "   [0.2267 0.1733 0.1644]]\n",
            "\n",
            "  ...\n",
            "\n",
            "  [[0.831  0.8354 0.8535]\n",
            "   [0.844  0.849  0.8667]\n",
            "   [0.8535 0.858  0.8755]\n",
            "   ...\n",
            "   [0.6934 0.6978 0.76  ]\n",
            "   [0.6    0.6045 0.6665]\n",
            "   [0.649  0.6533 0.7153]]\n",
            "\n",
            "  [[0.8354 0.84   0.858 ]\n",
            "   [0.84   0.844  0.8623]\n",
            "   [0.849  0.8535 0.871 ]\n",
            "   ...\n",
            "   [0.6445 0.649  0.711 ]\n",
            "   [0.649  0.6533 0.7153]\n",
            "   [0.662  0.6665 0.729 ]]\n",
            "\n",
            "  [[0.849  0.8535 0.871 ]\n",
            "   [0.849  0.8535 0.871 ]\n",
            "   [0.844  0.849  0.8667]\n",
            "   ...\n",
            "   [0.5957 0.6    0.662 ]\n",
            "   [0.671  0.676  0.738 ]\n",
            "   [0.6445 0.649  0.711 ]]]]\n",
            "[[0 0 0 0 0 0 0 0 0 0 0 0 1 0 0 0 0 0 0 0 0 0 0 0 0 0 0 0 0 0 0 0 0 0 0 0\n",
            "  0 0]]\n"
          ],
          "name": "stdout"
        }
      ]
    },
    {
      "cell_type": "markdown",
      "metadata": {
        "id": "TKrf91xeH0bh",
        "colab_type": "text"
      },
      "source": [
        "**MODEL TRAINING TIME**"
      ]
    },
    {
      "cell_type": "code",
      "metadata": {
        "id": "xpb1op338NHx",
        "colab_type": "code",
        "colab": {}
      },
      "source": [
        "from keras.models import Sequential\n",
        "from keras.layers.normalization import BatchNormalization\n",
        "from keras.layers.convolutional import Conv2D\n",
        "from keras.layers.convolutional import MaxPooling2D\n",
        "from keras.layers.core import Activation, Flatten, Dropout, Dense\n",
        "from keras import backend as K\n",
        "from keras.preprocessing.image import ImageDataGenerator\n",
        "from keras.optimizers import Adam\n",
        "from keras.preprocessing import image"
      ],
      "execution_count": 0,
      "outputs": []
    },
    {
      "cell_type": "code",
      "metadata": {
        "id": "fHLW6DmQIIG6",
        "colab_type": "code",
        "colab": {}
      },
      "source": [
        "EPOCHS = 10\n",
        "INIT_LR = 1e-3\n",
        "BS = 32\n",
        "image_size = 0\n",
        "width=256\n",
        "height=256\n",
        "depth=3"
      ],
      "execution_count": 0,
      "outputs": []
    },
    {
      "cell_type": "code",
      "metadata": {
        "id": "yj2g8u3jwdhF",
        "colab_type": "code",
        "colab": {}
      },
      "source": [
        "aug = ImageDataGenerator(\n",
        "    rotation_range=25, width_shift_range=0.1,\n",
        "    height_shift_range=0.1, shear_range=0.2, \n",
        "    zoom_range=0.2,horizontal_flip=True, \n",
        "    fill_mode=\"nearest\")"
      ],
      "execution_count": 0,
      "outputs": []
    },
    {
      "cell_type": "code",
      "metadata": {
        "id": "Qq02a_LJwfs_",
        "colab_type": "code",
        "colab": {}
      },
      "source": [
        "model = Sequential()\n",
        "inputShape = (height, width, depth)\n",
        "chanDim = -1\n",
        "if K.image_data_format() == \"channels_first\":\n",
        "    inputShape = (depth, height, width)\n",
        "    chanDim = 1\n",
        "model.add(Conv2D(32, (3, 3), padding=\"same\",input_shape=inputShape))\n",
        "model.add(Activation(\"relu\"))\n",
        "model.add(BatchNormalization(axis=chanDim))\n",
        "model.add(MaxPooling2D(pool_size=(3, 3)))\n",
        "model.add(Dropout(0.25))\n",
        "model.add(Conv2D(64, (3, 3), padding=\"same\"))\n",
        "model.add(Activation(\"relu\"))\n",
        "model.add(BatchNormalization(axis=chanDim))\n",
        "model.add(Conv2D(64, (3, 3), padding=\"same\"))\n",
        "model.add(Activation(\"relu\"))\n",
        "model.add(BatchNormalization(axis=chanDim))\n",
        "model.add(MaxPooling2D(pool_size=(2, 2)))\n",
        "model.add(Dropout(0.25))\n",
        "model.add(Conv2D(128, (3, 3), padding=\"same\"))\n",
        "model.add(Activation(\"relu\"))\n",
        "model.add(BatchNormalization(axis=chanDim))\n",
        "model.add(Conv2D(128, (3, 3), padding=\"same\"))\n",
        "model.add(Activation(\"relu\"))\n",
        "model.add(BatchNormalization(axis=chanDim))\n",
        "model.add(MaxPooling2D(pool_size=(2, 2)))\n",
        "model.add(Dropout(0.25))\n",
        "model.add(Flatten())\n",
        "model.add(Dense(1024))\n",
        "model.add(Activation(\"relu\"))\n",
        "model.add(BatchNormalization())\n",
        "model.add(Dropout(0.5))\n",
        "model.add(Dense(n_classes))\n",
        "model.add(Activation(\"softmax\"))"
      ],
      "execution_count": 0,
      "outputs": []
    },
    {
      "cell_type": "code",
      "metadata": {
        "id": "BR5XqQVJwlQ8",
        "colab_type": "code",
        "outputId": "7d49fa73-7af9-4fe4-910f-82c6d9b64d98",
        "colab": {
          "base_uri": "https://localhost:8080/",
          "height": 1000
        }
      },
      "source": [
        "model.summary()"
      ],
      "execution_count": 0,
      "outputs": [
        {
          "output_type": "stream",
          "text": [
            "Model: \"sequential_2\"\n",
            "_________________________________________________________________\n",
            "Layer (type)                 Output Shape              Param #   \n",
            "=================================================================\n",
            "conv2d_6 (Conv2D)            (None, 256, 256, 32)      896       \n",
            "_________________________________________________________________\n",
            "activation_7 (Activation)    (None, 256, 256, 32)      0         \n",
            "_________________________________________________________________\n",
            "batch_normalization_7 (Batch (None, 256, 256, 32)      128       \n",
            "_________________________________________________________________\n",
            "max_pooling2d_4 (MaxPooling2 (None, 85, 85, 32)        0         \n",
            "_________________________________________________________________\n",
            "dropout_5 (Dropout)          (None, 85, 85, 32)        0         \n",
            "_________________________________________________________________\n",
            "conv2d_7 (Conv2D)            (None, 85, 85, 64)        18496     \n",
            "_________________________________________________________________\n",
            "activation_8 (Activation)    (None, 85, 85, 64)        0         \n",
            "_________________________________________________________________\n",
            "batch_normalization_8 (Batch (None, 85, 85, 64)        256       \n",
            "_________________________________________________________________\n",
            "conv2d_8 (Conv2D)            (None, 85, 85, 64)        36928     \n",
            "_________________________________________________________________\n",
            "activation_9 (Activation)    (None, 85, 85, 64)        0         \n",
            "_________________________________________________________________\n",
            "batch_normalization_9 (Batch (None, 85, 85, 64)        256       \n",
            "_________________________________________________________________\n",
            "max_pooling2d_5 (MaxPooling2 (None, 42, 42, 64)        0         \n",
            "_________________________________________________________________\n",
            "dropout_6 (Dropout)          (None, 42, 42, 64)        0         \n",
            "_________________________________________________________________\n",
            "conv2d_9 (Conv2D)            (None, 42, 42, 128)       73856     \n",
            "_________________________________________________________________\n",
            "activation_10 (Activation)   (None, 42, 42, 128)       0         \n",
            "_________________________________________________________________\n",
            "batch_normalization_10 (Batc (None, 42, 42, 128)       512       \n",
            "_________________________________________________________________\n",
            "conv2d_10 (Conv2D)           (None, 42, 42, 128)       147584    \n",
            "_________________________________________________________________\n",
            "activation_11 (Activation)   (None, 42, 42, 128)       0         \n",
            "_________________________________________________________________\n",
            "batch_normalization_11 (Batc (None, 42, 42, 128)       512       \n",
            "_________________________________________________________________\n",
            "max_pooling2d_6 (MaxPooling2 (None, 21, 21, 128)       0         \n",
            "_________________________________________________________________\n",
            "dropout_7 (Dropout)          (None, 21, 21, 128)       0         \n",
            "_________________________________________________________________\n",
            "flatten_2 (Flatten)          (None, 56448)             0         \n",
            "_________________________________________________________________\n",
            "dense_2 (Dense)              (None, 1024)              57803776  \n",
            "_________________________________________________________________\n",
            "activation_12 (Activation)   (None, 1024)              0         \n",
            "_________________________________________________________________\n",
            "batch_normalization_12 (Batc (None, 1024)              4096      \n",
            "_________________________________________________________________\n",
            "dropout_8 (Dropout)          (None, 1024)              0         \n",
            "_________________________________________________________________\n",
            "dense_3 (Dense)              (None, 38)                38950     \n",
            "_________________________________________________________________\n",
            "activation_13 (Activation)   (None, 38)                0         \n",
            "=================================================================\n",
            "Total params: 58,126,246\n",
            "Trainable params: 58,123,366\n",
            "Non-trainable params: 2,880\n",
            "_________________________________________________________________\n"
          ],
          "name": "stdout"
        }
      ]
    },
    {
      "cell_type": "code",
      "metadata": {
        "id": "y0WpP0vy2a1J",
        "colab_type": "code",
        "outputId": "4578eaa0-65bc-4ea6-f1af-73c0b24b0dd9",
        "colab": {
          "base_uri": "https://localhost:8080/",
          "height": 154
        }
      },
      "source": [
        "opt = Adam(lr=INIT_LR, decay=INIT_LR / EPOCHS)\n",
        "model.compile(loss=\"binary_crossentropy\", optimizer=opt,metrics=[\"accuracy\"])"
      ],
      "execution_count": 0,
      "outputs": [
        {
          "output_type": "stream",
          "text": [
            "WARNING:tensorflow:From /usr/local/lib/python3.6/dist-packages/keras/optimizers.py:793: The name tf.train.Optimizer is deprecated. Please use tf.compat.v1.train.Optimizer instead.\n",
            "\n",
            "WARNING:tensorflow:From /usr/local/lib/python3.6/dist-packages/keras/backend/tensorflow_backend.py:3657: The name tf.log is deprecated. Please use tf.math.log instead.\n",
            "\n",
            "WARNING:tensorflow:From /tensorflow-1.15.2/python3.6/tensorflow_core/python/ops/nn_impl.py:183: where (from tensorflow.python.ops.array_ops) is deprecated and will be removed in a future version.\n",
            "Instructions for updating:\n",
            "Use tf.where in 2.0, which has the same broadcast rule as np.where\n"
          ],
          "name": "stdout"
        }
      ]
    },
    {
      "cell_type": "code",
      "metadata": {
        "id": "ox-c7FCP2hB-",
        "colab_type": "code",
        "outputId": "394bcba0-1dbd-44a9-edb0-5e6231495f05",
        "colab": {
          "base_uri": "https://localhost:8080/",
          "height": 353
        }
      },
      "source": [
        "history = model.fit_generator(\n",
        "    aug.flow(x_train, y_train, batch_size=BS),\n",
        "    validation_data=(x_test, y_test),\n",
        "    steps_per_epoch=len(x_train) // BS,\n",
        "    epochs=EPOCHS, verbose=1\n",
        "    )"
      ],
      "execution_count": 0,
      "outputs": [
        {
          "output_type": "stream",
          "text": [
            "Epoch 1/10\n",
            "4/4 [==============================] - 35s 9s/step - loss: 0.0426 - acc: 0.9858 - val_loss: 0.2038 - val_acc: 0.9633\n",
            "Epoch 2/10\n",
            "4/4 [==============================] - 36s 9s/step - loss: 0.0351 - acc: 0.9856 - val_loss: 0.2505 - val_acc: 0.9612\n",
            "Epoch 3/10\n",
            "4/4 [==============================] - 35s 9s/step - loss: 0.0346 - acc: 0.9882 - val_loss: 0.2331 - val_acc: 0.9619\n",
            "Epoch 4/10\n",
            "4/4 [==============================] - 35s 9s/step - loss: 0.0277 - acc: 0.9917 - val_loss: 0.2077 - val_acc: 0.9640\n",
            "Epoch 5/10\n",
            "4/4 [==============================] - 35s 9s/step - loss: 0.0322 - acc: 0.9890 - val_loss: 0.2549 - val_acc: 0.9584\n",
            "Epoch 6/10\n",
            "4/4 [==============================] - 33s 8s/step - loss: 0.0272 - acc: 0.9897 - val_loss: 0.2088 - val_acc: 0.9612\n",
            "Epoch 7/10\n",
            "4/4 [==============================] - 35s 9s/step - loss: 0.0318 - acc: 0.9894 - val_loss: 0.2378 - val_acc: 0.9584\n",
            "Epoch 8/10\n",
            "4/4 [==============================] - 37s 9s/step - loss: 0.0273 - acc: 0.9912 - val_loss: 0.2274 - val_acc: 0.9578\n",
            "Epoch 9/10\n",
            "4/4 [==============================] - 33s 8s/step - loss: 0.0219 - acc: 0.9921 - val_loss: 0.2166 - val_acc: 0.9598\n",
            "Epoch 10/10\n",
            "4/4 [==============================] - 36s 9s/step - loss: 0.0210 - acc: 0.9934 - val_loss: 0.1946 - val_acc: 0.9640\n"
          ],
          "name": "stdout"
        }
      ]
    },
    {
      "cell_type": "code",
      "metadata": {
        "id": "sCO-eDLh2h8_",
        "colab_type": "code",
        "outputId": "1d32ecbf-51f7-4fcf-e3f7-710e736b098f",
        "colab": {
          "base_uri": "https://localhost:8080/",
          "height": 229
        }
      },
      "source": [
        "import matplotlib.pyplot as plt\n",
        "\n",
        "acc = history.history['acc']\n",
        "val_acc = history.history['val_acc']\n",
        "loss = history.history['loss']\n",
        "val_loss = history.history['val_loss']\n",
        "epochs = range(1, len(acc) + 1)\n",
        "#Train and validation accuracy\n",
        "plt.plot(epochs, acc, 'b', label='Training accurarcy')\n",
        "plt.plot(epochs, val_acc, 'r', label='Validation accurarcy')\n",
        "plt.title('Training and Validation accurarcy')\n",
        "plt.legend()\n",
        "\n",
        "plt.figure()\n",
        "#Train and validation loss\n",
        "plt.plot(epochs, loss, 'b', label='Training loss')\n",
        "plt.plot(epochs, val_loss, 'r', label='Validation loss')\n",
        "plt.title('Training and Validation loss')\n",
        "plt.legend()\n",
        "plt.show()"
      ],
      "execution_count": 0,
      "outputs": [
        {
          "output_type": "error",
          "ename": "NameError",
          "evalue": "ignored",
          "traceback": [
            "\u001b[0;31m---------------------------------------------------------------------------\u001b[0m",
            "\u001b[0;31mNameError\u001b[0m                                 Traceback (most recent call last)",
            "\u001b[0;32m<ipython-input-25-6f882b83f18c>\u001b[0m in \u001b[0;36m<module>\u001b[0;34m()\u001b[0m\n\u001b[1;32m      1\u001b[0m \u001b[0;32mimport\u001b[0m \u001b[0mmatplotlib\u001b[0m\u001b[0;34m.\u001b[0m\u001b[0mpyplot\u001b[0m \u001b[0;32mas\u001b[0m \u001b[0mplt\u001b[0m\u001b[0;34m\u001b[0m\u001b[0;34m\u001b[0m\u001b[0m\n\u001b[1;32m      2\u001b[0m \u001b[0;34m\u001b[0m\u001b[0m\n\u001b[0;32m----> 3\u001b[0;31m \u001b[0macc\u001b[0m \u001b[0;34m=\u001b[0m \u001b[0mhistory\u001b[0m\u001b[0;34m.\u001b[0m\u001b[0mhistory\u001b[0m\u001b[0;34m[\u001b[0m\u001b[0;34m'acc'\u001b[0m\u001b[0;34m]\u001b[0m\u001b[0;34m\u001b[0m\u001b[0;34m\u001b[0m\u001b[0m\n\u001b[0m\u001b[1;32m      4\u001b[0m \u001b[0mval_acc\u001b[0m \u001b[0;34m=\u001b[0m \u001b[0mhistory\u001b[0m\u001b[0;34m.\u001b[0m\u001b[0mhistory\u001b[0m\u001b[0;34m[\u001b[0m\u001b[0;34m'val_acc'\u001b[0m\u001b[0;34m]\u001b[0m\u001b[0;34m\u001b[0m\u001b[0;34m\u001b[0m\u001b[0m\n\u001b[1;32m      5\u001b[0m \u001b[0mloss\u001b[0m \u001b[0;34m=\u001b[0m \u001b[0mhistory\u001b[0m\u001b[0;34m.\u001b[0m\u001b[0mhistory\u001b[0m\u001b[0;34m[\u001b[0m\u001b[0;34m'loss'\u001b[0m\u001b[0;34m]\u001b[0m\u001b[0;34m\u001b[0m\u001b[0;34m\u001b[0m\u001b[0m\n",
            "\u001b[0;31mNameError\u001b[0m: name 'history' is not defined"
          ]
        }
      ]
    },
    {
      "cell_type": "code",
      "metadata": {
        "id": "vGkwbeU53CsP",
        "colab_type": "code",
        "outputId": "d28b35d1-71ab-4cf9-af12-9b9403ace383",
        "colab": {
          "base_uri": "https://localhost:8080/",
          "height": 67
        }
      },
      "source": [
        "print(\"Calculating model accuracy\")\n",
        "scores = model.evaluate(x_test, y_test)\n",
        "print(f\"Test Accuracy: {scores[1]*100}\")"
      ],
      "execution_count": 0,
      "outputs": [
        {
          "output_type": "stream",
          "text": [
            "Calculating model accuracy\n",
            "38/38 [==============================] - 3s 85ms/step\n",
            "Test Accuracy: 96.53739835086623\n"
          ],
          "name": "stdout"
        }
      ]
    }
  ]
}